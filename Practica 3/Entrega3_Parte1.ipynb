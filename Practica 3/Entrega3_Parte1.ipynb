{
 "cells": [
  {
   "cell_type": "markdown",
   "id": "cc2e4d2a-28bd-41d5-9bfc-791c6777c15b",
   "metadata": {},
   "source": [
    "### PRIMERA PARTE"
   ]
  },
  {
   "cell_type": "code",
   "execution_count": 245,
   "id": "ae27225b-b2b7-40fb-8f46-2aa1f01740d3",
   "metadata": {},
   "outputs": [],
   "source": [
    "import numpy as np\n",
    "import pandas as pd\n",
    "from sklearn.tree import DecisionTreeClassifier, export_graphviz, export_text\n",
    "from scipy.stats import entropy"
   ]
  },
  {
   "cell_type": "code",
   "execution_count": 246,
   "id": "a255d10c-e92c-4e2b-90f6-a6a0caa44758",
   "metadata": {},
   "outputs": [
    {
     "data": {
      "text/html": [
       "<div>\n",
       "<style scoped>\n",
       "    .dataframe tbody tr th:only-of-type {\n",
       "        vertical-align: middle;\n",
       "    }\n",
       "\n",
       "    .dataframe tbody tr th {\n",
       "        vertical-align: top;\n",
       "    }\n",
       "\n",
       "    .dataframe thead th {\n",
       "        text-align: right;\n",
       "    }\n",
       "</style>\n",
       "<table border=\"1\" class=\"dataframe\">\n",
       "  <thead>\n",
       "    <tr style=\"text-align: right;\">\n",
       "      <th></th>\n",
       "      <th>Presion</th>\n",
       "      <th>Clase</th>\n",
       "    </tr>\n",
       "  </thead>\n",
       "  <tbody>\n",
       "    <tr>\n",
       "      <th>0</th>\n",
       "      <td>NaN</td>\n",
       "      <td>NaN</td>\n",
       "    </tr>\n",
       "    <tr>\n",
       "      <th>1</th>\n",
       "      <td>NaN</td>\n",
       "      <td>NaN</td>\n",
       "    </tr>\n",
       "    <tr>\n",
       "      <th>2</th>\n",
       "      <td>NaN</td>\n",
       "      <td>NaN</td>\n",
       "    </tr>\n",
       "    <tr>\n",
       "      <th>3</th>\n",
       "      <td>NaN</td>\n",
       "      <td>NaN</td>\n",
       "    </tr>\n",
       "    <tr>\n",
       "      <th>4</th>\n",
       "      <td>NaN</td>\n",
       "      <td>NaN</td>\n",
       "    </tr>\n",
       "    <tr>\n",
       "      <th>5</th>\n",
       "      <td>NaN</td>\n",
       "      <td>NaN</td>\n",
       "    </tr>\n",
       "  </tbody>\n",
       "</table>\n",
       "</div>"
      ],
      "text/plain": [
       "  Presion Clase\n",
       "0     NaN   NaN\n",
       "1     NaN   NaN\n",
       "2     NaN   NaN\n",
       "3     NaN   NaN\n",
       "4     NaN   NaN\n",
       "5     NaN   NaN"
      ]
     },
     "execution_count": 246,
     "metadata": {},
     "output_type": "execute_result"
    }
   ],
   "source": [
    "#Comenzamos creando la tabla inicial\n",
    "tabla = pd.DataFrame(columns = ['Presion', 'Clase'], index = np.arange(6))\n",
    "tabla"
   ]
  },
  {
   "cell_type": "code",
   "execution_count": 247,
   "id": "0d61ac99-8cda-430a-b673-f5c51cb42e84",
   "metadata": {},
   "outputs": [
    {
     "data": {
      "text/html": [
       "<div>\n",
       "<style scoped>\n",
       "    .dataframe tbody tr th:only-of-type {\n",
       "        vertical-align: middle;\n",
       "    }\n",
       "\n",
       "    .dataframe tbody tr th {\n",
       "        vertical-align: top;\n",
       "    }\n",
       "\n",
       "    .dataframe thead th {\n",
       "        text-align: right;\n",
       "    }\n",
       "</style>\n",
       "<table border=\"1\" class=\"dataframe\">\n",
       "  <thead>\n",
       "    <tr style=\"text-align: right;\">\n",
       "      <th></th>\n",
       "      <th>Presion</th>\n",
       "      <th>Clase</th>\n",
       "    </tr>\n",
       "  </thead>\n",
       "  <tbody>\n",
       "    <tr>\n",
       "      <th>0</th>\n",
       "      <td>40</td>\n",
       "      <td>+</td>\n",
       "    </tr>\n",
       "    <tr>\n",
       "      <th>1</th>\n",
       "      <td>48</td>\n",
       "      <td>+</td>\n",
       "    </tr>\n",
       "    <tr>\n",
       "      <th>2</th>\n",
       "      <td>60</td>\n",
       "      <td>-</td>\n",
       "    </tr>\n",
       "    <tr>\n",
       "      <th>3</th>\n",
       "      <td>72</td>\n",
       "      <td>-</td>\n",
       "    </tr>\n",
       "    <tr>\n",
       "      <th>4</th>\n",
       "      <td>80</td>\n",
       "      <td>-</td>\n",
       "    </tr>\n",
       "    <tr>\n",
       "      <th>5</th>\n",
       "      <td>90</td>\n",
       "      <td>+</td>\n",
       "    </tr>\n",
       "  </tbody>\n",
       "</table>\n",
       "</div>"
      ],
      "text/plain": [
       "   Presion Clase\n",
       "0       40     +\n",
       "1       48     +\n",
       "2       60     -\n",
       "3       72     -\n",
       "4       80     -\n",
       "5       90     +"
      ]
     },
     "execution_count": 247,
     "metadata": {},
     "output_type": "execute_result"
    }
   ],
   "source": [
    "#Rellenamos la tabla con los valores del ejercicio de teoría\n",
    "tabla.Presion = [40, 48, 60, 72, 80, 90]\n",
    "tabla.Clase = ['+', '+', '-', '-', '-', '+']\n",
    "tabla"
   ]
  },
  {
   "cell_type": "code",
   "execution_count": 248,
   "id": "2934ba00-d26a-4a00-952b-635286753814",
   "metadata": {},
   "outputs": [
    {
     "data": {
      "text/plain": [
       "1.0"
      ]
     },
     "execution_count": 248,
     "metadata": {},
     "output_type": "execute_result"
    }
   ],
   "source": [
    "#Creamos una lista llena de 0's y 1's segun corresponda para calcular luego la entropía\n",
    "list = []\n",
    "for i in range(len(tabla.Clase)):\n",
    "    if tabla.Clase[i] == '+':\n",
    "        list.append(1)\n",
    "    else:\n",
    "        list.append(0)\n",
    "        \n",
    "H = entropy(tabla.Clase.value_counts(normalize=True), base=2)\n",
    "H"
   ]
  },
  {
   "cell_type": "markdown",
   "id": "a3a24546-b1c1-4777-8ced-64bf29a3a0a7",
   "metadata": {},
   "source": [
    "A continuación, procedemos a calcular la ganancia de información para la primera cota de digitalización (Presión = 54).\n",
    "Primero, empleamos el metodo digitize para particionar un conjunto de datos, en este caso, los correspondientes a \n",
    "tabla.Presion y obtener los índices del intervalo al que pertece cada valor. Para ello, utilizamos bins = (48+60)/2. \n",
    "Si el dato es menor que el valor de bins el índice será 0, por el contrario, si el dato es superior será 1."
   ]
  },
  {
   "cell_type": "code",
   "execution_count": 249,
   "id": "0cdf6c85-fff0-42ee-9f63-3e9b21024f34",
   "metadata": {},
   "outputs": [
    {
     "data": {
      "text/html": [
       "<div>\n",
       "<style scoped>\n",
       "    .dataframe tbody tr th:only-of-type {\n",
       "        vertical-align: middle;\n",
       "    }\n",
       "\n",
       "    .dataframe tbody tr th {\n",
       "        vertical-align: top;\n",
       "    }\n",
       "\n",
       "    .dataframe thead th {\n",
       "        text-align: right;\n",
       "    }\n",
       "</style>\n",
       "<table border=\"1\" class=\"dataframe\">\n",
       "  <thead>\n",
       "    <tr style=\"text-align: right;\">\n",
       "      <th></th>\n",
       "      <th>Presion</th>\n",
       "      <th>Clase</th>\n",
       "    </tr>\n",
       "  </thead>\n",
       "  <tbody>\n",
       "    <tr>\n",
       "      <th>0</th>\n",
       "      <td>0</td>\n",
       "      <td>+</td>\n",
       "    </tr>\n",
       "    <tr>\n",
       "      <th>1</th>\n",
       "      <td>0</td>\n",
       "      <td>+</td>\n",
       "    </tr>\n",
       "    <tr>\n",
       "      <th>2</th>\n",
       "      <td>1</td>\n",
       "      <td>-</td>\n",
       "    </tr>\n",
       "    <tr>\n",
       "      <th>3</th>\n",
       "      <td>1</td>\n",
       "      <td>-</td>\n",
       "    </tr>\n",
       "    <tr>\n",
       "      <th>4</th>\n",
       "      <td>1</td>\n",
       "      <td>-</td>\n",
       "    </tr>\n",
       "    <tr>\n",
       "      <th>5</th>\n",
       "      <td>1</td>\n",
       "      <td>+</td>\n",
       "    </tr>\n",
       "  </tbody>\n",
       "</table>\n",
       "</div>"
      ],
      "text/plain": [
       "   Presion Clase\n",
       "0        0     +\n",
       "1        0     +\n",
       "2        1     -\n",
       "3        1     -\n",
       "4        1     -\n",
       "5        1     +"
      ]
     },
     "execution_count": 249,
     "metadata": {},
     "output_type": "execute_result"
    }
   ],
   "source": [
    "tabla_1 = tabla\n",
    "tabla_1.Presion = np.digitize(tabla.Presion, bins = [(48+60) / 2])\n",
    "tabla_1"
   ]
  },
  {
   "cell_type": "code",
   "execution_count": 250,
   "id": "134a8a1d-a9fa-4c6c-a1e9-e2117bb30a39",
   "metadata": {},
   "outputs": [
    {
     "name": "stdout",
     "output_type": "stream",
     "text": [
      "Ganancia de información de la primera cota digitalización: 0.4591479170272448\n"
     ]
    }
   ],
   "source": [
    "G1 = H\n",
    "for v in tabla_1.Presion.unique():\n",
    "    #Mediante el metodo .loc, accedemos a las filas y columnas que indiquemos\n",
    "    class1 = tabla_1.loc[tabla_1.Presion == v]\n",
    "    G1 -= (len(class1)/len(tabla_1))*entropy(class1.Clase.value_counts(normalize=True), base=2)\n",
    "    \n",
    "print(\"Ganancia de información de la primera cota digitalización:\", G1)"
   ]
  },
  {
   "cell_type": "markdown",
   "id": "fbe2b75d-14b2-42fa-aecf-b93d1863d21d",
   "metadata": {},
   "source": [
    "Ahora, calculamos la ganancia de información para la segunda cota de digitalización (Presión = 85).\n",
    "Pero antes tenemos que volver a establecer los valores originales para la columna Presion de 'tabla'"
   ]
  },
  {
   "cell_type": "code",
   "execution_count": 251,
   "id": "933165d0-a731-4ca6-8eec-3e6b23b4d519",
   "metadata": {},
   "outputs": [
    {
     "data": {
      "text/html": [
       "<div>\n",
       "<style scoped>\n",
       "    .dataframe tbody tr th:only-of-type {\n",
       "        vertical-align: middle;\n",
       "    }\n",
       "\n",
       "    .dataframe tbody tr th {\n",
       "        vertical-align: top;\n",
       "    }\n",
       "\n",
       "    .dataframe thead th {\n",
       "        text-align: right;\n",
       "    }\n",
       "</style>\n",
       "<table border=\"1\" class=\"dataframe\">\n",
       "  <thead>\n",
       "    <tr style=\"text-align: right;\">\n",
       "      <th></th>\n",
       "      <th>Presion</th>\n",
       "      <th>Clase</th>\n",
       "    </tr>\n",
       "  </thead>\n",
       "  <tbody>\n",
       "    <tr>\n",
       "      <th>0</th>\n",
       "      <td>0</td>\n",
       "      <td>+</td>\n",
       "    </tr>\n",
       "    <tr>\n",
       "      <th>1</th>\n",
       "      <td>0</td>\n",
       "      <td>+</td>\n",
       "    </tr>\n",
       "    <tr>\n",
       "      <th>2</th>\n",
       "      <td>0</td>\n",
       "      <td>-</td>\n",
       "    </tr>\n",
       "    <tr>\n",
       "      <th>3</th>\n",
       "      <td>0</td>\n",
       "      <td>-</td>\n",
       "    </tr>\n",
       "    <tr>\n",
       "      <th>4</th>\n",
       "      <td>0</td>\n",
       "      <td>-</td>\n",
       "    </tr>\n",
       "    <tr>\n",
       "      <th>5</th>\n",
       "      <td>1</td>\n",
       "      <td>+</td>\n",
       "    </tr>\n",
       "  </tbody>\n",
       "</table>\n",
       "</div>"
      ],
      "text/plain": [
       "   Presion Clase\n",
       "0        0     +\n",
       "1        0     +\n",
       "2        0     -\n",
       "3        0     -\n",
       "4        0     -\n",
       "5        1     +"
      ]
     },
     "execution_count": 251,
     "metadata": {},
     "output_type": "execute_result"
    }
   ],
   "source": [
    "tabla.Presion = [40, 48, 60, 72, 80, 90]\n",
    "\n",
    "tabla_2 = tabla\n",
    "tabla_2.Presion = np.digitize(tabla.Presion, bins = [(80+90) / 2])\n",
    "tabla_2"
   ]
  },
  {
   "cell_type": "code",
   "execution_count": 252,
   "id": "fd3573ba-ba16-407d-b060-f3bd4ffad75f",
   "metadata": {},
   "outputs": [
    {
     "name": "stdout",
     "output_type": "stream",
     "text": [
      "Ganancia de información de la segunda cota digitalización: 0.19087450462110933\n"
     ]
    }
   ],
   "source": [
    "G2 = H\n",
    "for v in tabla_2.Presion.unique():\n",
    "    class2 = tabla_2.loc[tabla_2.Presion == v]\n",
    "    G2 -= (len(class2)/len(tabla_2))*entropy(class2.Clase.value_counts(normalize=True), base=2)\n",
    "    \n",
    "print(\"Ganancia de información de la segunda cota digitalización:\", G2)"
   ]
  },
  {
   "cell_type": "markdown",
   "id": "6e62721d-e310-41cc-b077-b1d22a365116",
   "metadata": {},
   "source": [
    "Como G1 > G2, se escogerá la primera cota de digitalización (Presión = 54)"
   ]
  },
  {
   "cell_type": "code",
   "execution_count": 253,
   "id": "a274a419-7f9c-4d3a-af0a-bd15ef14755a",
   "metadata": {},
   "outputs": [],
   "source": [
    "tabla.Presion = [40, 48, 60, 72, 80, 90]"
   ]
  },
  {
   "cell_type": "markdown",
   "id": "a32c93ba-8bed-4973-bc54-06ffec18904f",
   "metadata": {},
   "source": [
    "print(\"clf = DecisionTreeClassifier(max_leaf_nodes = 2, criterion = 'entropy')\n",
    "clf.fit(np.array(tabla.Presion).reshape(-1, 1), tabla.Clase) #Mediante el método .reshape(-1,1) lo que hacemos es darle una nueva forma al array sin cambiar los datos, de manera que se muestre cada valor como una fila distinta"
   ]
  },
  {
   "cell_type": "code",
   "execution_count": 254,
   "id": "bf6601f7-23b8-4eed-ad2b-b56c170b694b",
   "metadata": {},
   "outputs": [
    {
     "name": "stdout",
     "output_type": "stream",
     "text": [
      "|--- Presión <= 54.00\n",
      "|   |--- class: +\n",
      "|--- Presión >  54.00\n",
      "|   |--- class: -\n",
      "\n"
     ]
    }
   ],
   "source": [
    "txt = export_text(clf, feature_names = ['Presión'])\n",
    "print(txt)"
   ]
  }
 ],
 "metadata": {
  "kernelspec": {
   "display_name": "Python 3 (ipykernel)",
   "language": "python",
   "name": "python3"
  },
  "language_info": {
   "codemirror_mode": {
    "name": "ipython",
    "version": 3
   },
   "file_extension": ".py",
   "mimetype": "text/x-python",
   "name": "python",
   "nbconvert_exporter": "python",
   "pygments_lexer": "ipython3",
   "version": "3.9.7"
  }
 },
 "nbformat": 4,
 "nbformat_minor": 5
}
